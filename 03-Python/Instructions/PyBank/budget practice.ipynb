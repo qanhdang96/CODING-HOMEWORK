{
 "cells": [
  {
   "cell_type": "code",
   "execution_count": 2,
   "metadata": {},
   "outputs": [
    {
     "name": "stdout",
     "output_type": "stream",
     "text": [
      "Financial Analysis\n",
      "----------------------------\n",
      "Total Months: 86\n",
      "Total: $38382578\n",
      "Average Change: $-2315.12\n",
      "Greatest Increase in Profits: Feb-2012 ($1926159)\n",
      "Greatest Decrease in Profits: Sep-2013 ($-2196167)\n"
     ]
    }
   ],
   "source": [
    "import os \n",
    "import csv \n",
    "\n",
    "#Path to collect data from the Resources folder \n",
    "csvpath = os.path.join('Resources','budget_data.csv')\n",
    "\n",
    "#Define the variables \n",
    "months = []\n",
    "total = [] \n",
    "average_change = []\n",
    "\n",
    "# Read in the CSV file\n",
    "with open(csvpath, newline='') as csvfile:\n",
    "\n",
    "    # Split the data on commas\n",
    "    csvreader = csv.reader(csvfile, delimiter=',')\n",
    "    next(csvreader)\n",
    "\n",
    "   # Loop through the data \n",
    "    for row in csvreader:\n",
    "        #Append the total months and net profits to their lists \n",
    "        months.append(row[0])\n",
    "        total.append(int(row[1]))\n",
    "    \n",
    "    #Loop through each month, find the monthly average \n",
    "    for i in range (len(total) - 1):\n",
    "        average_change.append(total[i + 1] - total[i])\n",
    "        total_average = sum(average_change)/len(average_change)\n",
    "        \n",
    "#Finding greatest increase and decrease value of average change \n",
    "max_increase = max(average_change)\n",
    "max_decrease = min(average_change)\n",
    "\n",
    "#Put the values according to their dates, plus 1 since the value is of next month\n",
    "max_month = average_change.index(max_increase) + 1\n",
    "min_month = average_change.index(max_decrease) + 1\n",
    "\n",
    "# Print out stats for budget data \n",
    "print(f\"Financial Analysis\")\n",
    "print(f\"----------------------------\")\n",
    "print(f\"Total Months: {len(months)}\")\n",
    "print(f\"Total: ${sum(total)}\")\n",
    "print(f\"Average Change: ${round(total_average, 2)}\")\n",
    "print(f\"Greatest Increase in Profits: {months[max_month]} (${str(max_increase)})\")\n",
    "print(f\"Greatest Decrease in Profits: {months[min_month]} (${str(max_decrease)})\")"
   ]
  }
 ],
 "metadata": {
  "celltoolbar": "Raw Cell Format",
  "kernelspec": {
   "display_name": "Python 3",
   "language": "python",
   "name": "python3"
  },
  "language_info": {
   "codemirror_mode": {
    "name": "ipython",
    "version": 3
   },
   "file_extension": ".py",
   "mimetype": "text/x-python",
   "name": "python",
   "nbconvert_exporter": "python",
   "pygments_lexer": "ipython3",
   "version": "3.7.1"
  }
 },
 "nbformat": 4,
 "nbformat_minor": 2
}
