{
 "cells": [
  {
   "cell_type": "code",
   "execution_count": 24,
   "metadata": {},
   "outputs": [
    {
     "name": "stdout",
     "output_type": "stream",
     "text": [
      "Election Results\n",
      "----------------------------\n",
      "Total Votes: 3521001\n",
      "----------------------------\n",
      "Khan: 63.000% (2218231)\n",
      "Correy: 20.000% (704200)\n",
      "Li: 14.000% (492940)\n",
      "O'Tooley: 3.000% (105630)\n",
      "----------------------------\n",
      "Winner: Khan\n",
      "----------------------------\n"
     ]
    }
   ],
   "source": [
    "import os \n",
    "import csv \n",
    "\n",
    "#Path to collect data from the Resources folder \n",
    "csvpath = os.path.join('Resources','election_data.csv')\n",
    "\n",
    "#Define the variables \n",
    "total = 0\n",
    "candidate = []\n",
    "khan_votes = 0 \n",
    "correy_votes = 0 \n",
    "li_votes = 0 \n",
    "tooley_votes = 0 \n",
    "\n",
    "# Read in the CSV file\n",
    "with open(csvpath, newline='') as electiondata:\n",
    "\n",
    "    # Split the data on commas\n",
    "    csvreader = csv.reader(electiondata, delimiter=',')\n",
    "    next(csvreader)\n",
    "    \n",
    "    # Loop through the data \n",
    "    for row in csvreader:\n",
    "        #Count the total votes  \n",
    "        total += 1\n",
    "        #Append the candidate to their list \n",
    "        candidate.append(row[2])\n",
    "        \n",
    "        if (\"Khan\" == row[2]):\n",
    "            khan_votes += 1\n",
    "            khan_percent = (khan_votes/total)*100\n",
    "        elif (\"Correy\" == row[2]):\n",
    "            correy_votes += 1\n",
    "            correy_percent = (correy_votes/total)*100\n",
    "        elif (\"Li\" == row[2]):\n",
    "            li_votes += 1\n",
    "            li_percent = (li_votes/total)*100\n",
    "        elif (\"O'Tooley\" == row[2]): \n",
    "            tooley_votes += 1\n",
    "            tooley_percent = (tooley_votes/total)*100\n",
    "            \n",
    "candidate_votes = [khan_votes, correy_votes, li_votes, tooley_votes]\n",
    "\n",
    "winner = max(candidate_votes)\n",
    "\n",
    "# Print out stats for budget data \n",
    "print(\"Election Results\")\n",
    "print(\"----------------------------\")\n",
    "print(f\"Total Votes: {total}\")\n",
    "print(\"----------------------------\")\n",
    "print(f\"Khan: {khan_percent:.3f}% ({khan_votes})\")\n",
    "print(f\"Correy: {correy_percent:.3f}% ({correy_votes})\")\n",
    "print(f\"Li: {li_percent:.3f}% ({li_votes})\")\n",
    "print(f\"O'Tooley: {tooley_percent:.3f}% ({tooley_votes})\")\n",
    "print(\"----------------------------\")\n",
    "print(f\"Winner: {candidate[winner]}\")\n",
    "print(\"----------------------------\")"
   ]
  }
 ],
 "metadata": {
  "kernelspec": {
   "display_name": "Python3 (PythonData)",
   "language": "python",
   "name": "pythondata"
  },
  "language_info": {
   "codemirror_mode": {
    "name": "ipython",
    "version": 3
   },
   "file_extension": ".py",
   "mimetype": "text/x-python",
   "name": "python",
   "nbconvert_exporter": "python",
   "pygments_lexer": "ipython3",
   "version": "3.7.1"
  }
 },
 "nbformat": 4,
 "nbformat_minor": 2
}
